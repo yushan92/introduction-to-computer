{
  "nbformat": 4,
  "nbformat_minor": 0,
  "metadata": {
    "colab": {
      "provenance": [],
      "authorship_tag": "ABX9TyOeZH62tNBaIN7hkrodfXOD",
      "include_colab_link": true
    },
    "kernelspec": {
      "name": "python3",
      "display_name": "Python 3"
    },
    "language_info": {
      "name": "python"
    }
  },
  "cells": [
    {
      "cell_type": "markdown",
      "metadata": {
        "id": "view-in-github",
        "colab_type": "text"
      },
      "source": [
        "<a href=\"https://colab.research.google.com/github/yushan92/introduction-to-computer/blob/main/0515.ipynb\" target=\"_parent\"><img src=\"https://colab.research.google.com/assets/colab-badge.svg\" alt=\"Open In Colab\"/></a>"
      ]
    },
    {
      "cell_type": "code",
      "execution_count": 1,
      "metadata": {
        "colab": {
          "base_uri": "https://localhost:8080/"
        },
        "id": "WsF6YWmUQpWl",
        "outputId": "87afb7a3-71de-4319-c98d-d43457bde63b"
      },
      "outputs": [
        {
          "output_type": "stream",
          "name": "stdout",
          "text": [
            "今天會下雨嗎?咘咘\n",
            "重新輸入\n"
          ]
        }
      ],
      "source": [
        "rain = str(input(\"今天會下雨嗎?\"))\n",
        "if (rain == \"y\" or rain == \"Y\"):\n",
        "  print(\"出門記得帶傘!\")\n",
        "elif (rain == \"n\" or rain == \"N\"):\n",
        "  print(\"不用帶傘\")\n",
        "else:\n",
        "  print(\"重新輸入\")\n",
        "     \n",
        "     "
      ]
    },
    {
      "cell_type": "code",
      "source": [
        "temperature = float(input(\"請輸入體溫:\"))\n",
        "if temperature >= 37.5:\n",
        "  print(\"體溫過高!\")\n",
        "elif (temperature >= 37 and temperature <= 37.4):\n",
        "  print(\"體溫略高!\")\n",
        "elif (temperature >= 34 and temperature <= 36.9):\n",
        "  print(\"體溫正常!\")\n",
        "else:\n",
        "  print(\"體溫異常，請重新量測!\")\n",
        "     "
      ],
      "metadata": {
        "colab": {
          "base_uri": "https://localhost:8080/"
        },
        "id": "a7lDBi1KpaG8",
        "outputId": "374614b8-8a3d-4bab-ec25-318dab70f2c1"
      },
      "execution_count": 2,
      "outputs": [
        {
          "output_type": "stream",
          "name": "stdout",
          "text": [
            "請輸入體溫:38\n",
            "體溫過高!\n"
          ]
        }
      ]
    },
    {
      "cell_type": "code",
      "source": [
        "score = int(input(\"請輸入成績\"))\n",
        "if score >= 90:\n",
        "  print(\"A\")\n",
        "elif (score >= 80 and score <= 89):\n",
        "  print(\"B\")\n",
        "elif (score >= 70 and score <= 79):\n",
        "  print(\"C\")\n",
        "elif (score >= 60 and score <= 69):\n",
        "  print(\"D\")\n",
        "else:\n",
        "  print(\"E\")\n",
        "     "
      ],
      "metadata": {
        "colab": {
          "base_uri": "https://localhost:8080/"
        },
        "id": "4OaPUpmlp783",
        "outputId": "77264a17-f643-4bcd-a3dc-5d58c86b2755"
      },
      "execution_count": 3,
      "outputs": [
        {
          "output_type": "stream",
          "name": "stdout",
          "text": [
            "請輸入成績72\n",
            "C\n"
          ]
        }
      ]
    },
    {
      "cell_type": "code",
      "source": [
        "s = int(input(\"請輸入月份:\"))\n",
        "if (s == 3 or s == 4 or s == 5):\n",
        "  print(int(s),\"月是春天!\")\n",
        "elif (s == 6 or s == 7 or s == 8):\n",
        "  print(int(s),\"月是夏天!\")\n",
        "elif (s == 9 or s == 10 or s == 11):\n",
        "  print(int(s),\"月是秋天!\")\n",
        "elif (s == 12 or s == 1 or s == 2):\n",
        "  print(int(s),\"月是冬天!\")\n",
        "else:\n",
        "  print(\"月份不在範圍內!\")"
      ],
      "metadata": {
        "colab": {
          "base_uri": "https://localhost:8080/"
        },
        "id": "f2c2lSV2qHDb",
        "outputId": "0d3c56ca-0bb4-4751-f894-dbcf9195efe4"
      },
      "execution_count": 6,
      "outputs": [
        {
          "output_type": "stream",
          "name": "stdout",
          "text": [
            "請輸入月份:9\n",
            "9 月是秋天!\n"
          ]
        }
      ]
    },
    {
      "cell_type": "code",
      "source": [
        "income = int(input(\"請輸入今年收入淨額:\"))\n",
        "if income >= 2000000:\n",
        "  print(\"付稅金額:\",float(income * 0.3),\"元\")\n",
        "elif income >= 1000000:\n",
        "  print(\"付稅金額:\",float(income * 0.21),\"元\")\n",
        "elif income >= 600000:\n",
        "  print(\"付稅金額:\",float(income * 0.13),\"元\")\n",
        "elif income >= 300000:\n",
        "  print(\"付稅金額:\",float(income * 0.06),\"元\")\n",
        "else:\n",
        "  print(\"付稅金額:\",float(income * 0),\"元\")"
      ],
      "metadata": {
        "colab": {
          "base_uri": "https://localhost:8080/"
        },
        "id": "-ohya4dyqk0F",
        "outputId": "0eb4a4ff-cc9f-465e-8d41-cb2587ab3599"
      },
      "execution_count": 5,
      "outputs": [
        {
          "output_type": "stream",
          "name": "stdout",
          "text": [
            "請輸入今年收入淨額:3300000\n",
            "付稅金額: 990000.0 元\n"
          ]
        }
      ]
    }
  ]
}